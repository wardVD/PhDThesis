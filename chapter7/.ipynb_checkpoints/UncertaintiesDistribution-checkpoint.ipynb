{
 "metadata": {
  "name": "",
  "signature": "sha256:2e268cec69392c5651f4b5029c266fda237d88220d1fb9689424c30a0ef92a5d"
 },
 "nbformat": 3,
 "nbformat_minor": 0,
 "worksheets": [
  {
   "cells": [
    {
     "cell_type": "code",
     "collapsed": false,
     "input": [
      "import numpy as np\n",
      "import scipy as sc\n",
      "import scipy.integrate as integrate\n",
      "from scipy.interpolate import interp1d\n",
      "\n",
      "def normalDistr(x,mu,sigma):\n",
      "    factor = 1./np.sqrt(2*np.pi*sigma*sigma)\n",
      "    exponential = np.e**(-(x-mu)**2/(2*sigma*sigma))\n",
      "    result = factor*exponential\n",
      "    return result\n",
      "def P_unc(n,lamb,sigma):\n",
      "    def stirling(n):\n",
      "        return (n+0.5) * np.log(n) - n + 0.5* np.log(2*np.pi)\n",
      "    def P_unc_diff(n,x,lamb,sigma):\n",
      "        if n < 10:\n",
      "            factor = ((lamb+x)**n * np.e**(-lamb-x))/sc.math.factorial(n)\n",
      "        else:\n",
      "            ln_factor = n*np.log(lamb+x) - lamb - x - stirling(n)\n",
      "            factor = np.e**ln_factor\n",
      "        weight = normalDistr(x,0,sigma)\n",
      "        result = factor*weight\n",
      "        return result\n",
      "    result = integrate.quad(lambda x: P_unc_diff(n,x,lamb,sigma), -1.*lamb, lamb*5)\n",
      "    return result\n",
      "\n",
      "def get_range(lamb,lamb_rel_err):\n",
      "    first = lamb*(1+lamb_rel_err)*5\n",
      "    if first >= 10:\n",
      "        return np.linspace(0,int(first),int(first)+1)\n",
      "    elif first<5:\n",
      "        return np.linspace(0,10,11)\n",
      "    else:\n",
      "        return np.linspace(0,20,21)\n",
      "        \n",
      "lamb1,lamb1_rel_err = 18, 0.178\n",
      "lamb2,lamb2_rel_err = 76.1, 0.06\n",
      "lamb3,lamb3_rel_err = 96.5, 0.047\n",
      "lamb4,lamb4_rel_err = 101.9,0.057\n",
      "lamb5,lamb5_rel_err = 2.2,1.4/2.2\n",
      "lamb6,lamb6_rel_err = 0.14,0.38/0.14\n",
      "\n",
      "n_range_1 = get_range(lamb1,lamb1_rel_err)\n",
      "n_range_2 = get_range(lamb2,lamb2_rel_err)\n",
      "n_range_3 = get_range(lamb3,lamb3_rel_err)\n",
      "n_range_4 = get_range(lamb4,lamb4_rel_err)\n",
      "n_range_5 = get_range(lamb5,lamb5_rel_err)\n",
      "n_range_6 = get_range(lamb6,lamb6_rel_err)\n",
      "\n",
      "n_range_1_fine = np.linspace(0,n_range_1[-1],(n_range_1[-1])*30+1)\n",
      "n_range_2_fine = np.linspace(0,n_range_2[-1],(n_range_2[-1])*30+1)\n",
      "n_range_3_fine = np.linspace(0,n_range_3[-1],(n_range_3[-1])*30+1)\n",
      "n_range_4_fine = np.linspace(0,n_range_4[-1],(n_range_4[-1])*30+1)\n",
      "n_range_5_fine = np.linspace(0,n_range_5[-1],(n_range_5[-1])*30+1)\n",
      "n_range_6_fine = np.linspace(0,n_range_6[-1],(n_range_6[-1])*30+1)\n",
      "\n",
      "y_1 = [P_unc(n,lamb1,lamb1*lamb1_rel_err)[0] for n in n_range_1]\n",
      "y_2 = [P_unc(n,lamb2,lamb2*lamb2_rel_err)[0] for n in n_range_2]\n",
      "y_3 = [P_unc(n,lamb3,lamb3*lamb3_rel_err)[0] for n in n_range_3]\n",
      "y_4 = [P_unc(n,lamb4,lamb4*lamb4_rel_err)[0] for n in n_range_4]\n",
      "y_5 = [P_unc(n,lamb5,lamb5*lamb5_rel_err)[0] for n in n_range_5]\n",
      "y_6 = [P_unc(n,lamb6,lamb6*lamb6_rel_err)[0] for n in n_range_6]\n",
      "\n",
      "import matplotlib.pyplot as plt\n",
      "%matplotlib inline\n",
      "plt.plot(n_range_1,y_1,'b.',markersize=5)\n",
      "plt.plot(n_range_2,y_2,'g.',markersize=5)\n",
      "plt.plot(n_range_3,y_3,'r.',markersize=5)\n",
      "plt.plot(n_range_4,y_4,'m.',markersize=5)\n",
      "f_fit_1 = interp1d(n_range_1, y_1, kind='cubic')\n",
      "f_fit_2 = interp1d(n_range_2, y_2, kind='cubic')\n",
      "f_fit_3 = interp1d(n_range_3, y_3, kind='cubic')\n",
      "f_fit_4 = interp1d(n_range_4, y_4, kind='cubic')\n",
      "\n",
      "plt.plot(n_range_1_fine, f_fit_1(n_range_1_fine), 'b-', linewidth=1)\n",
      "plt.plot(n_range_2_fine, f_fit_2(n_range_2_fine), 'g-', linewidth=1)\n",
      "plt.plot(n_range_3_fine, f_fit_3(n_range_3_fine), 'r-', linewidth=1)\n",
      "plt.plot(n_range_4_fine, f_fit_4(n_range_4_fine), 'm-', linewidth=1)\n"
     ],
     "language": "python",
     "metadata": {},
     "outputs": [
      {
       "metadata": {},
       "output_type": "pyout",
       "prompt_number": 1,
       "text": [
        "[<matplotlib.lines.Line2D at 0x7fc0e3210e50>]"
       ]
      },
      {
       "metadata": {},
       "output_type": "display_data",
       "png": "[encoded data removed]",
       "text": [
        "<matplotlib.figure.Figure at 0x7fc0ea446190>"
       ]
      }
     ],
     "prompt_number": 1
    },
    {
     "cell_type": "code",
     "collapsed": false,
     "input": [
      "#from scipy.misc import factorial\n",
      "#def poisson(k, lamb):\n",
      "#    return (lamb**k/factorial(k)) * np.exp(-lamb)\n",
      "#def erlang(x,k,lamb):\n",
      "#    return (lamb**k * x**(k-1) * np.exp(-lamb*x))/factorial(k-1)\n",
      "#from scipy.optimize import curve_fit\n",
      "#parameters, cov_matrix = curve_fit(erlang, n_range_3, y_6) \n",
      "plt.plot(n_range_5,y_5,'b.',markersize=10)\n",
      "plt.plot(n_range_6,y_6,'g.',markersize=10)\n",
      "\n",
      "f_fit_5 = interp1d(n_range_5, y_5, kind='cubic')\n",
      "f_fit_6 = interp1d(n_range_6, y_6, kind='cubic')\n",
      "\n",
      "plt.plot(n_range_5_fine, f_fit_5(n_range_5_fine), 'b-', linewidth=2)\n",
      "plt.plot(n_range_6_fine, f_fit_6(n_range_6_fine), 'g-', linewidth=2)"
     ],
     "language": "python",
     "metadata": {},
     "outputs": [
      {
       "metadata": {},
       "output_type": "pyout",
       "prompt_number": 2,
       "text": [
        "[<matplotlib.lines.Line2D at 0x7fc0e3107b90>]"
       ]
      },
      {
       "metadata": {},
       "output_type": "display_data",
       "png": "[encoded data removed]",
       "text": [
        "<matplotlib.figure.Figure at 0x7fc11011b0d0>"
       ]
      }
     ],
     "prompt_number": 2
    },
    {
     "cell_type": "code",
     "collapsed": false,
     "input": [
      "def P_unc_function(lamb,sigma):\n",
      "    range_x = get_range(lamb,sigma/lamb)\n",
      "    def getFineRange(range_x):\n",
      "        return np.linspace(0,range_x[-1],(range_x[-1])*20+1)\n",
      "    range_x_fine = getFineRange(range_x)\n",
      "    y = [P_unc(x,lamb,sigma)[0] for x in range_x]\n",
      "    f_fit = interp1d(range_x, y, kind='cubic')\n",
      "    y_fine = f_fit(range_x_fine)\n",
      "    assert y_fine[-1] < 1e-3, \"Your range isn't large enough!\"\n",
      "    return  range_x_fine, y_fine"
     ],
     "language": "python",
     "metadata": {},
     "outputs": [],
     "prompt_number": 3
    },
    {
     "cell_type": "code",
     "collapsed": false,
     "input": [
      "import ROOT\n",
      "ROOT.gROOT.LoadMacro(\"AvgUpperLimit.c\")\n",
      "\n",
      "n_obs = 30\n",
      "n_exp = 41\n",
      "sigma1 = 5\n",
      "n_range, n_prob = P_unc_function(n_exp,sigma1)\n",
      "FC_unc = 0\n",
      "problist = []\n",
      "FClist   = []\n",
      "for i,n in enumerate(n_range):\n",
      "    if i%100==0: print(\"At \",round(100*float(i)/len(n_range),1),\"%\")\n",
      "    normalized_prob = (n_prob[i])*(n_range[-1]/len(n_range))\n",
      "    problist.append(normalized_prob)\n",
      "    FC = ROOT.simpleFC(n_obs,n,0.9)\n",
      "    FClist.append(FC)\n",
      "    FC_unc +=  FC * normalized_prob\n",
      "print('Complex (sigma {}): {}'.format(sigma1, FC_unc))\n",
      "#Show what's actually being done!\n",
      "fig, ax1 = plt.subplots()\n",
      "ax1.plot(n_range,np.array(problist),'r-',label='Probability weights')\n",
      "ax1.plot(n_range,np.array(FClist)*np.array(problist),'g-',label='Weighted FC values')\n",
      "ax1.set_xlabel('n_exp')\n",
      "# Make the y-axis label, ticks and tick labels match the line color.\n",
      "ax1.set_ylabel('Probability', color='r')\n",
      "ax1.tick_params('y', colors='r')\n",
      "\n",
      "ax2 = ax1.twinx()\n",
      "ax2.plot(n_range,np.array(FClist),'b-',label='FC values')\n",
      "ax2.set_ylabel('FC for n_obs={}'.format(n_obs), color='b')\n",
      "ax2.tick_params('y', colors='b')\n",
      "\n",
      "fig.tight_layout()\n",
      "ax1.legend(loc=1)\n",
      "ax2.legend(loc='bottom right')\n",
      "\n",
      "plt.show()"
     ],
     "language": "python",
     "metadata": {},
     "outputs": [
      {
       "output_type": "stream",
       "stream": "stdout",
       "text": [
        "('At ', 0.0, '%')\n",
        "('At ', 2.4, '%')"
       ]
      },
      {
       "output_type": "stream",
       "stream": "stdout",
       "text": [
        "\n",
        "('At ', 4.9, '%')"
       ]
      },
      {
       "output_type": "stream",
       "stream": "stdout",
       "text": [
        "\n",
        "('At ', 7.3, '%')"
       ]
      },
      {
       "output_type": "stream",
       "stream": "stdout",
       "text": [
        "\n",
        "('At ', 9.8, '%')"
       ]
      },
      {
       "output_type": "stream",
       "stream": "stdout",
       "text": [
        "\n",
        "('At ', 12.2, '%')"
       ]
      },
      {
       "output_type": "stream",
       "stream": "stdout",
       "text": [
        "\n",
        "('At ', 14.6, '%')"
       ]
      },
      {
       "output_type": "stream",
       "stream": "stdout",
       "text": [
        "\n",
        "('At ', 17.1, '%')"
       ]
      },
      {
       "output_type": "stream",
       "stream": "stdout",
       "text": [
        "\n",
        "('At ', 19.5, '%')"
       ]
      },
      {
       "output_type": "stream",
       "stream": "stdout",
       "text": [
        "\n",
        "('At ', 21.9, '%')"
       ]
      },
      {
       "output_type": "stream",
       "stream": "stdout",
       "text": [
        "\n",
        "('At ', 24.4, '%')"
       ]
      },
      {
       "output_type": "stream",
       "stream": "stdout",
       "text": [
        "\n",
        "('At ', 26.8, '%')"
       ]
      },
      {
       "output_type": "stream",
       "stream": "stdout",
       "text": [
        "\n",
        "('At ', 29.3, '%')"
       ]
      },
      {
       "output_type": "stream",
       "stream": "stdout",
       "text": [
        "\n",
        "('At ', 31.7, '%')"
       ]
      },
      {
       "output_type": "stream",
       "stream": "stdout",
       "text": [
        "\n",
        "('At ', 34.1, '%')"
       ]
      },
      {
       "output_type": "stream",
       "stream": "stdout",
       "text": [
        "\n",
        "('At ', 36.6, '%')"
       ]
      },
      {
       "output_type": "stream",
       "stream": "stdout",
       "text": [
        "\n",
        "('At ', 39.0, '%')"
       ]
      },
      {
       "output_type": "stream",
       "stream": "stdout",
       "text": [
        "\n",
        "('At ', 41.5, '%')"
       ]
      },
      {
       "output_type": "stream",
       "stream": "stdout",
       "text": [
        "\n",
        "('At ', 43.9, '%')"
       ]
      },
      {
       "output_type": "stream",
       "stream": "stdout",
       "text": [
        "\n",
        "('At ', 46.3, '%')"
       ]
      },
      {
       "output_type": "stream",
       "stream": "stdout",
       "text": [
        "\n",
        "('At ', 48.8, '%')"
       ]
      },
      {
       "output_type": "stream",
       "stream": "stdout",
       "text": [
        "\n",
        "('At ', 51.2, '%')"
       ]
      },
      {
       "output_type": "stream",
       "stream": "stdout",
       "text": [
        "\n",
        "('At ', 53.6, '%')"
       ]
      },
      {
       "output_type": "stream",
       "stream": "stdout",
       "text": [
        "\n",
        "('At ', 56.1, '%')"
       ]
      },
      {
       "output_type": "stream",
       "stream": "stdout",
       "text": [
        "\n",
        "('At ', 58.5, '%')"
       ]
      },
      {
       "output_type": "stream",
       "stream": "stdout",
       "text": [
        "\n",
        "('At ', 61.0, '%')"
       ]
      },
      {
       "output_type": "stream",
       "stream": "stdout",
       "text": [
        "\n",
        "('At ', 63.4, '%')"
       ]
      },
      {
       "output_type": "stream",
       "stream": "stdout",
       "text": [
        "\n",
        "('At ', 65.8, '%')"
       ]
      },
      {
       "output_type": "stream",
       "stream": "stdout",
       "text": [
        "\n",
        "('At ', 68.3, '%')"
       ]
      },
      {
       "output_type": "stream",
       "stream": "stdout",
       "text": [
        "\n",
        "('At ', 70.7, '%')"
       ]
      },
      {
       "output_type": "stream",
       "stream": "stdout",
       "text": [
        "\n",
        "('At ', 73.2, '%')"
       ]
      },
      {
       "output_type": "stream",
       "stream": "stdout",
       "text": [
        "\n",
        "('At ', 75.6, '%')"
       ]
      },
      {
       "output_type": "stream",
       "stream": "stdout",
       "text": [
        "\n",
        "('At ', 78.0, '%')"
       ]
      },
      {
       "output_type": "stream",
       "stream": "stdout",
       "text": [
        "\n",
        "('At ', 80.5, '%')"
       ]
      },
      {
       "output_type": "stream",
       "stream": "stdout",
       "text": [
        "\n",
        "('At ', 82.9, '%')"
       ]
      },
      {
       "output_type": "stream",
       "stream": "stdout",
       "text": [
        "\n",
        "('At ', 85.3, '%')"
       ]
      },
      {
       "output_type": "stream",
       "stream": "stdout",
       "text": [
        "\n",
        "('At ', 87.8, '%')"
       ]
      },
      {
       "output_type": "stream",
       "stream": "stdout",
       "text": [
        "\n",
        "('At ', 90.2, '%')"
       ]
      },
      {
       "output_type": "stream",
       "stream": "stdout",
       "text": [
        "\n",
        "('At ', 92.7, '%')"
       ]
      },
      {
       "output_type": "stream",
       "stream": "stdout",
       "text": [
        "\n",
        "('At ', 95.1, '%')"
       ]
      },
      {
       "output_type": "stream",
       "stream": "stdout",
       "text": [
        "\n",
        "('At ', 97.5, '%')"
       ]
      },
      {
       "output_type": "stream",
       "stream": "stdout",
       "text": [
        "\n",
        "('At ', 100.0, '%')"
       ]
      },
      {
       "output_type": "stream",
       "stream": "stdout",
       "text": [
        "\n",
        "Complex (sigma 5): 4.51160230267\n"
       ]
      },
      {
       "metadata": {},
       "output_type": "display_data",
       "png": "[encoded data removed]",
       "text": [
        "<matplotlib.figure.Figure at 0x7fc0e30b3950>"
       ]
      }
     ],
     "prompt_number": 4
    },
    {
     "cell_type": "code",
     "collapsed": false,
     "input": [
      "n_sig = 2\n",
      "sigma_sig = 7\n",
      "n_range, n_prob = P_unc_function(n_sig,sigma_sig)\n",
      "ns_unc = 0\n",
      "for i,n in enumerate(n_range):\n",
      "    #if i%100==0: print(\"At \",round(100*float(i)/len(n_range),1),\"%\")\n",
      "    normalized_prob = (n_prob[i])*(n_range[-1]/len(n_range))\n",
      "    ns_unc +=  n * normalized_prob\n",
      "print('n_sig: {}, n_sig_unc (sigma {}): {}'.format(n_sig,sigma_sig,ns_unc))"
     ],
     "language": "python",
     "metadata": {},
     "outputs": [
      {
       "output_type": "stream",
       "stream": "stdout",
       "text": [
        "n_sig: 2, n_sig_unc (sigma 7): 2.75395800949\n"
       ]
      }
     ],
     "prompt_number": 21
    },
    {
     "cell_type": "code",
     "collapsed": false,
     "input": [
      "import ROOT\n",
      "ROOT.gROOT.LoadMacro(\"AvgUpperLimit.c\")\n",
      "ROOT.simpleFC(30,4,0.9)"
     ],
     "language": "python",
     "metadata": {},
     "outputs": [
      {
       "metadata": {},
       "output_type": "pyout",
       "prompt_number": 24,
       "text": [
        "0.0"
       ]
      }
     ],
     "prompt_number": 24
    },
    {
     "cell_type": "code",
     "collapsed": false,
     "input": [],
     "language": "python",
     "metadata": {},
     "outputs": []
    },
    {
     "cell_type": "code",
     "collapsed": false,
     "input": [
      "def stirling(n):\n",
      "        return (n+0.5) * np.log(n) - n + 0.5* np.log(2*np.pi)\n",
      "np.exp(40*np.log(40+0) - 40 - 0 - stirling(40))\n"
     ],
     "language": "python",
     "metadata": {},
     "outputs": [
      {
       "metadata": {},
       "output_type": "pyout",
       "prompt_number": 43,
       "text": [
        "0.063078313050504556"
       ]
      }
     ],
     "prompt_number": 43
    },
    {
     "cell_type": "code",
     "collapsed": false,
     "input": [
      "normalDistr(0,40,0.1)"
     ],
     "language": "python",
     "metadata": {},
     "outputs": [
      {
       "metadata": {},
       "output_type": "pyout",
       "prompt_number": 44,
       "text": [
        "0.0"
       ]
      }
     ],
     "prompt_number": 44
    },
    {
     "cell_type": "code",
     "collapsed": false,
     "input": [],
     "language": "python",
     "metadata": {},
     "outputs": []
    }
   ],
   "metadata": {}
  }
 ]
}
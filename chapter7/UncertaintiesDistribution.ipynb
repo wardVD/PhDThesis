{
 "metadata": {
  "name": "",
  "signature": "sha256:e8ce321b1d5b00588e105ace66df7f0592df2d7d881b1026cd62bc2bd243b851"
 },
 "nbformat": 3,
 "nbformat_minor": 0,
 "worksheets": [
  {
   "cells": [
    {
     "cell_type": "code",
     "collapsed": false,
     "input": [
      "import numpy as np\n",
      "import scipy as sc\n",
      "import scipy.integrate as integrate\n",
      "from scipy.interpolate import interp1d\n",
      "\n",
      "def normalDistr(x,mu,sigma):\n",
      "    factor = 1./np.sqrt(2*np.pi*sigma*sigma)\n",
      "    exponential = np.e**(-(x-mu)**2/(2*sigma*sigma))\n",
      "    result = factor*exponential\n",
      "    return result\n",
      "def P_unc(n,lamb,sigma):\n",
      "    def stirling(n):\n",
      "        return (n+0.5) * np.log(n) - n + 0.5* np.log(2*np.pi)\n",
      "    def P_unc_diff(n,x,lamb,sigma):\n",
      "        if n < 10:\n",
      "            factor = ((lamb+x)**n * np.e**(-lamb-x))/sc.math.factorial(n)\n",
      "        else:\n",
      "            ln_factor = n*np.log(lamb+x) - lamb - x - stirling(n)\n",
      "            factor = np.e**ln_factor\n",
      "        weight = normalDistr(x,0,sigma)\n",
      "        result = factor*weight\n",
      "        return result\n",
      "    result = integrate.quad(lambda x: P_unc_diff(n,x,lamb,sigma), -1.*lamb, lamb*5)\n",
      "    return result\n",
      "\n",
      "def get_range(lamb,lamb_rel_err):\n",
      "    first = lamb*(1+lamb_rel_err)*5\n",
      "    if first >= 10:\n",
      "        return np.linspace(0,int(first),int(first)+1)\n",
      "    elif first<5:\n",
      "        return np.linspace(0,10,11)\n",
      "    else:\n",
      "        return np.linspace(0,20,21)\n",
      "        \n",
      "lamb1,lamb1_rel_err = 18, 0.178\n",
      "lamb2,lamb2_rel_err = 76.1, 0.06\n",
      "lamb3,lamb3_rel_err = 96.5, 0.047\n",
      "lamb4,lamb4_rel_err = 101.9,0.057\n",
      "lamb5,lamb5_rel_err = 2.23,3.5/2.2\n",
      "lamb6,lamb6_rel_err = 1.1,0.38/0.14\n",
      "\n",
      "n_range_1 = get_range(lamb1,lamb1_rel_err)\n",
      "n_range_2 = get_range(lamb2,lamb2_rel_err)\n",
      "n_range_3 = get_range(lamb3,lamb3_rel_err)\n",
      "n_range_4 = get_range(lamb4,lamb4_rel_err)\n",
      "n_range_5 = get_range(lamb5,lamb5_rel_err)\n",
      "n_range_6 = get_range(lamb6,lamb6_rel_err)\n",
      "\n",
      "n_range_1_fine = np.linspace(0,n_range_1[-1],(n_range_1[-1])*30+1)\n",
      "n_range_2_fine = np.linspace(0,n_range_2[-1],(n_range_2[-1])*30+1)\n",
      "n_range_3_fine = np.linspace(0,n_range_3[-1],(n_range_3[-1])*30+1)\n",
      "n_range_4_fine = np.linspace(0,n_range_4[-1],(n_range_4[-1])*30+1)\n",
      "n_range_5_fine = np.linspace(0,n_range_5[-1],(n_range_5[-1])*20+1)\n",
      "n_range_6_fine = np.linspace(0,n_range_6[-1],(n_range_6[-1])*30+1)\n",
      "\n",
      "y_1 = [P_unc(n,lamb1,lamb1*lamb1_rel_err)[0] for n in n_range_1]\n",
      "y_2 = [P_unc(n,lamb2,lamb2*lamb2_rel_err)[0] for n in n_range_2]\n",
      "y_3 = [P_unc(n,lamb3,lamb3*lamb3_rel_err)[0] for n in n_range_3]\n",
      "y_4 = [P_unc(n,lamb4,lamb4*lamb4_rel_err)[0] for n in n_range_4]\n",
      "y_5 = [P_unc(n,lamb5,lamb5*lamb5_rel_err)[0] for n in n_range_5]\n",
      "y_6 = [P_unc(n,lamb6,lamb6*lamb6_rel_err)[0] for n in n_range_6]\n",
      "\n",
      "import matplotlib.pyplot as plt\n",
      "%matplotlib inline\n",
      "plt.plot(n_range_1,y_1,'b.',markersize=5)\n",
      "plt.plot(n_range_2,y_2,'g.',markersize=5)\n",
      "plt.plot(n_range_3,y_3,'r.',markersize=5)\n",
      "plt.plot(n_range_4,y_4,'m.',markersize=5)\n",
      "f_fit_1 = interp1d(n_range_1, y_1, kind='cubic')\n",
      "f_fit_2 = interp1d(n_range_2, y_2, kind='cubic')\n",
      "f_fit_3 = interp1d(n_range_3, y_3, kind='cubic')\n",
      "f_fit_4 = interp1d(n_range_4, y_4, kind='cubic')\n",
      "\n",
      "plt.plot(n_range_1_fine, f_fit_1(n_range_1_fine), 'b-', linewidth=1)\n",
      "plt.axvline(x=lamb1,color='b')\n",
      "#plt.plot(n_range_2_fine, f_fit_2(n_range_2_fine), 'g-', linewidth=1)\n",
      "#plt.axvline(x=lamb2,color='g')\n",
      "#plt.plot(n_range_3_fine, f_fit_3(n_range_3_fine), 'r-', linewidth=1)\n",
      "#plt.axvline(x=lamb3,color='r')\n",
      "#plt.plot(n_range_4_fine, f_fit_4(n_range_4_fine), 'm-', linewidth=1)\n",
      "#plt.axvline(x=lamb4,color='m')\n",
      "plt.xlim(0,50)\n"
     ],
     "language": "python",
     "metadata": {},
     "outputs": [
      {
       "metadata": {},
       "output_type": "pyout",
       "prompt_number": 13,
       "text": [
        "(0, 50)"
       ]
      },
      {
       "metadata": {},
       "output_type": "display_data",
       "png": "[encoded data removed]",
       "text": [
        "<matplotlib.figure.Figure at 0x7fd70c576dd0>"
       ]
      }
     ],
     "prompt_number": 13
    },
    {
     "cell_type": "code",
     "collapsed": false,
     "input": [
      "#from scipy.misc import factorial\n",
      "#def poisson(k, lamb):\n",
      "#    return (lamb**k/factorial(k)) * np.exp(-lamb)\n",
      "#def erlang(x,k,lamb):\n",
      "#    return (lamb**k * x**(k-1) * np.exp(-lamb*x))/factorial(k-1)\n",
      "#from scipy.optimize import curve_fit\n",
      "#parameters, cov_matrix = curve_fit(erlang, n_range_3, y_6) \n",
      "plt.plot(n_range_5,y_5,'b.',markersize=10)\n",
      "plt.plot(n_range_6,y_6,'g.',markersize=10)\n",
      "\n",
      "f_fit_5 = interp1d(n_range_5, y_5, kind='cubic')\n",
      "f_fit_6 = interp1d(n_range_6, y_6, kind='cubic')\n",
      "\n",
      "plt.plot(n_range_5_fine, f_fit_5(n_range_5_fine), 'b-', linewidth=2)\n",
      "plt.axvline(x=lamb5,color='b')\n",
      "plt.plot(n_range_6_fine, f_fit_6(n_range_6_fine), 'g-', linewidth=2)\n",
      "plt.axvline(x=lamb6,color='g')"
     ],
     "language": "python",
     "metadata": {},
     "outputs": [
      {
       "metadata": {},
       "output_type": "pyout",
       "prompt_number": 14,
       "text": [
        "<matplotlib.lines.Line2D at 0x7fd70c567f90>"
       ]
      },
      {
       "metadata": {},
       "output_type": "display_data",
       "png": "[encoded data removed]",
       "text": [
        "<matplotlib.figure.Figure at 0x7fd70c84c350>"
       ]
      }
     ],
     "prompt_number": 14
    },
    {
     "cell_type": "code",
     "collapsed": false,
     "input": [
      "print(np.sum(np.array(f_fit_5(n_range_5_fine))*(n_range_5_fine[-1]/len(n_range_5_fine))))\n",
      "print(np.sum(np.array(f_fit_4(n_range_4_fine))*(n_range_4_fine[-1]/len(n_range_4_fine))))\n",
      "#Duidelijk dat de lage n niet genormeerd op 1 zijn..."
     ],
     "language": "python",
     "metadata": {},
     "outputs": [
      {
       "output_type": "stream",
       "stream": "stdout",
       "text": [
        "0.685490923736\n",
        "1.00076662735\n"
       ]
      }
     ],
     "prompt_number": 15
    },
    {
     "cell_type": "code",
     "collapsed": false,
     "input": [
      "print(n_range_5_fine)\n",
      "print(f_fit_5(n_range_5_fine))\n",
      "print(np.array(f_fit_5(n_range_5_fine))*(n_range_5_fine[-1]/len(n_range_5_fine)))"
     ],
     "language": "python",
     "metadata": {},
     "outputs": [
      {
       "output_type": "stream",
       "stream": "stdout",
       "text": [
        "[  0.     0.05   0.1    0.15   0.2    0.25   0.3    0.35   0.4    0.45\n",
        "   0.5    0.55   0.6    0.65   0.7    0.75   0.8    0.85   0.9    0.95   1.\n",
        "   1.05   1.1    1.15   1.2    1.25   1.3    1.35   1.4    1.45   1.5\n",
        "   1.55   1.6    1.65   1.7    1.75   1.8    1.85   1.9    1.95   2.     2.05\n",
        "   2.1    2.15   2.2    2.25   2.3    2.35   2.4    2.45   2.5    2.55\n",
        "   2.6    2.65   2.7    2.75   2.8    2.85   2.9    2.95   3.     3.05\n",
        "   3.1    3.15   3.2    3.25   3.3    3.35   3.4    3.45   3.5    3.55\n",
        "   3.6    3.65   3.7    3.75   3.8    3.85   3.9    3.95   4.     4.05\n",
        "   4.1    4.15   4.2    4.25   4.3    4.35   4.4    4.45   4.5    4.55\n",
        "   4.6    4.65   4.7    4.75   4.8    4.85   4.9    4.95   5.     5.05\n",
        "   5.1    5.15   5.2    5.25   5.3    5.35   5.4    5.45   5.5    5.55\n",
        "   5.6    5.65   5.7    5.75   5.8    5.85   5.9    5.95   6.     6.05\n",
        "   6.1    6.15   6.2    6.25   6.3    6.35   6.4    6.45   6.5    6.55\n",
        "   6.6    6.65   6.7    6.75   6.8    6.85   6.9    6.95   7.     7.05\n",
        "   7.1    7.15   7.2    7.25   7.3    7.35   7.4    7.45   7.5    7.55\n",
        "   7.6    7.65   7.7    7.75   7.8    7.85   7.9    7.95   8.     8.05\n",
        "   8.1    8.15   8.2    8.25   8.3    8.35   8.4    8.45   8.5    8.55\n",
        "   8.6    8.65   8.7    8.75   8.8    8.85   8.9    8.95   9.     9.05\n",
        "   9.1    9.15   9.2    9.25   9.3    9.35   9.4    9.45   9.5    9.55\n",
        "   9.6    9.65   9.7    9.75   9.8    9.85   9.9    9.95  10.    10.05\n",
        "  10.1   10.15  10.2   10.25  10.3   10.35  10.4   10.45  10.5   10.55\n",
        "  10.6   10.65  10.7   10.75  10.8   10.85  10.9   10.95  11.    11.05\n",
        "  11.1   11.15  11.2   11.25  11.3   11.35  11.4   11.45  11.5   11.55\n",
        "  11.6   11.65  11.7   11.75  11.8   11.85  11.9   11.95  12.    12.05\n",
        "  12.1   12.15  12.2   12.25  12.3   12.35  12.4   12.45  12.5   12.55\n",
        "  12.6   12.65  12.7   12.75  12.8   12.85  12.9   12.95  13.    13.05\n",
        "  13.1   13.15  13.2   13.25  13.3   13.35  13.4   13.45  13.5   13.55\n",
        "  13.6   13.65  13.7   13.75  13.8   13.85  13.9   13.95  14.    14.05\n",
        "  14.1   14.15  14.2   14.25  14.3   14.35  14.4   14.45  14.5   14.55\n",
        "  14.6   14.65  14.7   14.75  14.8   14.85  14.9   14.95  15.    15.05\n",
        "  15.1   15.15  15.2   15.25  15.3   15.35  15.4   15.45  15.5   15.55\n",
        "  15.6   15.65  15.7   15.75  15.8   15.85  15.9   15.95  16.    16.05\n",
        "  16.1   16.15  16.2   16.25  16.3   16.35  16.4   16.45  16.5   16.55\n",
        "  16.6   16.65  16.7   16.75  16.8   16.85  16.9   16.95  17.    17.05\n",
        "  17.1   17.15  17.2   17.25  17.3   17.35  17.4   17.45  17.5   17.55\n",
        "  17.6   17.65  17.7   17.75  17.8   17.85  17.9   17.95  18.    18.05\n",
        "  18.1   18.15  18.2   18.25  18.3   18.35  18.4   18.45  18.5   18.55\n",
        "  18.6   18.65  18.7   18.75  18.8   18.85  18.9   18.95  19.    19.05\n",
        "  19.1   19.15  19.2   19.25  19.3   19.35  19.4   19.45  19.5   19.55\n",
        "  19.6   19.65  19.7   19.75  19.8   19.85  19.9   19.95  20.    20.05\n",
        "  20.1   20.15  20.2   20.25  20.3   20.35  20.4   20.45  20.5   20.55\n",
        "  20.6   20.65  20.7   20.75  20.8   20.85  20.9   20.95  21.    21.05\n",
        "  21.1   21.15  21.2   21.25  21.3   21.35  21.4   21.45  21.5   21.55\n",
        "  21.6   21.65  21.7   21.75  21.8   21.85  21.9   21.95  22.    22.05\n",
        "  22.1   22.15  22.2   22.25  22.3   22.35  22.4   22.45  22.5   22.55\n",
        "  22.6   22.65  22.7   22.75  22.8   22.85  22.9   22.95  23.    23.05\n",
        "  23.1   23.15  23.2   23.25  23.3   23.35  23.4   23.45  23.5   23.55\n",
        "  23.6   23.65  23.7   23.75  23.8   23.85  23.9   23.95  24.    24.05\n",
        "  24.1   24.15  24.2   24.25  24.3   24.35  24.4   24.45  24.5   24.55\n",
        "  24.6   24.65  24.7   24.75  24.8   24.85  24.9   24.95  25.    25.05\n",
        "  25.1   25.15  25.2   25.25  25.3   25.35  25.4   25.45  25.5   25.55\n",
        "  25.6   25.65  25.7   25.75  25.8   25.85  25.9   25.95  26.    26.05\n",
        "  26.1   26.15  26.2   26.25  26.3   26.35  26.4   26.45  26.5   26.55\n",
        "  26.6   26.65  26.7   26.75  26.8   26.85  26.9   26.95  27.    27.05\n",
        "  27.1   27.15  27.2   27.25  27.3   27.35  27.4   27.45  27.5   27.55\n",
        "  27.6   27.65  27.7   27.75  27.8   27.85  27.9   27.95  28.  ]\n",
        "[  1.02063818e-01   1.02367872e-01   1.02652338e-01   1.02917382e-01\n",
        "   1.03163168e-01   1.03389864e-01   1.03597634e-01   1.03786643e-01\n",
        "   1.03957057e-01   1.04109041e-01   1.04242762e-01   1.04358383e-01\n",
        "   1.04456071e-01   1.04535992e-01   1.04598310e-01   1.04643191e-01\n",
        "   1.04670800e-01   1.04681303e-01   1.04674866e-01   1.04651653e-01\n",
        "   1.04611830e-01   1.04555566e-01   1.04483042e-01   1.04394442e-01\n",
        "   1.04289949e-01   1.04169749e-01   1.04034025e-01   1.03882960e-01\n",
        "   1.03716741e-01   1.03535549e-01   1.03339571e-01   1.03128989e-01\n",
        "   1.02903987e-01   1.02664751e-01   1.02411463e-01   1.02144309e-01\n",
        "   1.01863472e-01   1.01569136e-01   1.01261485e-01   1.00940704e-01\n",
        "   1.00606977e-01   1.00260498e-01   9.99015083e-02   9.95302578e-02\n",
        "   9.91469977e-02   9.87519788e-02   9.83454520e-02   9.79276682e-02\n",
        "   9.74988782e-02   9.70593330e-02   9.66092834e-02   9.61489803e-02\n",
        "   9.56786746e-02   9.51986171e-02   9.47090588e-02   9.42102504e-02\n",
        "   9.37024429e-02   9.31858872e-02   9.26608342e-02   9.21275346e-02\n",
        "   9.15862394e-02   9.10371964e-02   9.04806405e-02   8.99168038e-02\n",
        "   8.93459181e-02   8.87682154e-02   8.81839277e-02   8.75932868e-02\n",
        "   8.69965246e-02   8.63938732e-02   8.57855644e-02   8.51718302e-02\n",
        "   8.45529025e-02   8.39290132e-02   8.33003943e-02   8.26672776e-02\n",
        "   8.20298952e-02   8.13884789e-02   8.07432607e-02   8.00944725e-02\n",
        "   7.94423463e-02   7.87871065e-02   7.81289479e-02   7.74680580e-02\n",
        "   7.68046241e-02   7.61388336e-02   7.54708739e-02   7.48009323e-02\n",
        "   7.41291963e-02   7.34558532e-02   7.27810904e-02   7.21050954e-02\n",
        "   7.14280554e-02   7.07501579e-02   7.00715902e-02   6.93925398e-02\n",
        "   6.87131939e-02   6.80337401e-02   6.73543656e-02   6.66752579e-02\n",
        "   6.59966044e-02   6.53185820e-02   6.46413267e-02   6.39649638e-02\n",
        "   6.32896188e-02   6.26154172e-02   6.19424845e-02   6.12709460e-02\n",
        "   6.06009274e-02   5.99325540e-02   5.92659513e-02   5.86012447e-02\n",
        "   5.79385598e-02   5.72780220e-02   5.66197568e-02   5.59638895e-02\n",
        "   5.53105458e-02   5.46598510e-02   5.40119307e-02   5.33669102e-02\n",
        "   5.27249151e-02   5.20860618e-02   5.14504312e-02   5.08180950e-02\n",
        "   5.01891250e-02   4.95635930e-02   4.89415709e-02   4.83231305e-02\n",
        "   4.77083435e-02   4.70972818e-02   4.64900171e-02   4.58866213e-02\n",
        "   4.52871662e-02   4.46917236e-02   4.41003653e-02   4.35131631e-02\n",
        "   4.29301889e-02   4.23515143e-02   4.17772112e-02   4.12073515e-02\n",
        "   4.06420070e-02   4.00812387e-02   3.95250657e-02   3.89734960e-02\n",
        "   3.84265381e-02   3.78841999e-02   3.73464899e-02   3.68134163e-02\n",
        "   3.62849872e-02   3.57612109e-02   3.52420957e-02   3.47276498e-02\n",
        "   3.42178813e-02   3.37127987e-02   3.32124099e-02   3.27167235e-02\n",
        "   3.22257474e-02   3.17394900e-02   3.12579596e-02   3.07811642e-02\n",
        "   3.03091123e-02   2.98418169e-02   2.93793106e-02   2.89216311e-02\n",
        "   2.84688158e-02   2.80209024e-02   2.75779285e-02   2.71399315e-02\n",
        "   2.67069490e-02   2.62790187e-02   2.58561780e-02   2.54384645e-02\n",
        "   2.50259158e-02   2.46185695e-02   2.42164631e-02   2.38196341e-02\n",
        "   2.34281201e-02   2.30419588e-02   2.26611876e-02   2.22858441e-02\n",
        "   2.19159659e-02   2.15515650e-02   2.11925521e-02   2.08388121e-02\n",
        "   2.04902300e-02   2.01466908e-02   1.98080798e-02   1.94742817e-02\n",
        "   1.91451818e-02   1.88206649e-02   1.85006163e-02   1.81849208e-02\n",
        "   1.78734636e-02   1.75661297e-02   1.72628040e-02   1.69633718e-02\n",
        "   1.66677179e-02   1.63757274e-02   1.60872854e-02   1.58022769e-02\n",
        "   1.55205870e-02   1.52421239e-02   1.49668892e-02   1.46949079e-02\n",
        "   1.44262048e-02   1.41608048e-02   1.38987327e-02   1.36400135e-02\n",
        "   1.33846719e-02   1.31327330e-02   1.28842215e-02   1.26391623e-02\n",
        "   1.23975803e-02   1.21595005e-02   1.19249475e-02   1.16939465e-02\n",
        "   1.14665221e-02   1.12426993e-02   1.10225030e-02   1.08059580e-02\n",
        "   1.05930892e-02   1.03839082e-02   1.01783728e-02   9.97642760e-03\n",
        "   9.77801724e-03   9.58308625e-03   9.39157919e-03   9.20344065e-03\n",
        "   9.01861520e-03   8.83704739e-03   8.65868180e-03   8.48346301e-03\n",
        "   8.31133558e-03   8.14224408e-03   7.97613309e-03   7.81294716e-03\n",
        "   7.65263088e-03   7.49512881e-03   7.34038552e-03   7.18834559e-03\n",
        "   7.03895358e-03   6.89215835e-03   6.74792596e-03   6.60622673e-03\n",
        "   6.46703100e-03   6.33030912e-03   6.19603141e-03   6.06416822e-03\n",
        "   5.93468988e-03   5.80756672e-03   5.68276909e-03   5.56026733e-03\n",
        "   5.44003176e-03   5.32203273e-03   5.20624057e-03   5.09262562e-03\n",
        "   4.98115821e-03   4.87180869e-03   4.76454739e-03   4.65934465e-03\n",
        "   4.55617080e-03   4.45499623e-03   4.35579149e-03   4.25852719e-03\n",
        "   4.16317392e-03   4.06970230e-03   3.97808291e-03   3.88828637e-03\n",
        "   3.80028328e-03   3.71404423e-03   3.62953984e-03   3.54674069e-03\n",
        "   3.46561741e-03   3.38614057e-03   3.30828080e-03   3.23200869e-03\n",
        "   3.15729484e-03   3.08410986e-03   3.01242434e-03   2.94220890e-03\n",
        "   2.87343412e-03   2.80607193e-03   2.74009944e-03   2.67549510e-03\n",
        "   2.61223733e-03   2.55030458e-03   2.48967527e-03   2.43032784e-03\n",
        "   2.37224073e-03   2.31539236e-03   2.25976118e-03   2.20532562e-03\n",
        "   2.15206411e-03   2.09995508e-03   2.04897698e-03   1.99910824e-03\n",
        "   1.95032728e-03   1.90261255e-03   1.85594247e-03   1.81029550e-03\n",
        "   1.76565004e-03   1.72198543e-03   1.67928448e-03   1.63753088e-03\n",
        "   1.59670832e-03   1.55680051e-03   1.51779114e-03   1.47966390e-03\n",
        "   1.44240248e-03   1.40599059e-03   1.37041192e-03   1.33565017e-03\n",
        "   1.30168902e-03   1.26851218e-03   1.23610333e-03   1.20444618e-03\n",
        "   1.17352442e-03   1.14332174e-03   1.11382184e-03   1.08500842e-03\n",
        "   1.05686517e-03   1.02937658e-03   1.00253035e-03   9.76314987e-04\n",
        "   9.50718975e-04   9.25730815e-04   9.01339005e-04   8.77532040e-04\n",
        "   8.54298418e-04   8.31626636e-04   8.09505190e-04   7.87922577e-04\n",
        "   7.66867294e-04   7.46327838e-04   7.26292705e-04   7.06750393e-04\n",
        "   6.87689399e-04   6.69098218e-04   6.50965348e-04   6.33279286e-04\n",
        "   6.16028529e-04   5.99202174e-04   5.82791726e-04   5.66789288e-04\n",
        "   5.51186967e-04   5.35976866e-04   5.21151090e-04   5.06701745e-04\n",
        "   4.92620935e-04   4.78900765e-04   4.65533340e-04   4.52510765e-04\n",
        "   4.39825144e-04   4.27468582e-04   4.15433185e-04   4.03711056e-04\n",
        "   3.92294302e-04   3.81175026e-04   3.70345333e-04   3.59797329e-04\n",
        "   3.49523118e-04   3.39515253e-04   3.29768079e-04   3.20276388e-04\n",
        "   3.11034974e-04   3.02038629e-04   2.93282146e-04   2.84760317e-04\n",
        "   2.76467937e-04   2.68399797e-04   2.60550690e-04   2.52915409e-04\n",
        "   2.45488747e-04   2.38265497e-04   2.31240452e-04   2.24408403e-04\n",
        "   2.17764145e-04   2.11302470e-04   2.05018171e-04   1.98906040e-04\n",
        "   1.92960871e-04   1.87177770e-04   1.81553102e-04   1.76083545e-04\n",
        "   1.70765779e-04   1.65596480e-04   1.60572329e-04   1.55690003e-04\n",
        "   1.50946181e-04   1.46337542e-04   1.41860765e-04   1.37512527e-04\n",
        "   1.33289507e-04   1.29188384e-04   1.25205837e-04   1.21338544e-04\n",
        "   1.17583183e-04   1.13936433e-04   1.10394973e-04   1.06955482e-04\n",
        "   1.03614637e-04   1.00369330e-04   9.72173032e-05   9.41565120e-05\n",
        "   9.11849111e-05   8.83004555e-05   8.55011002e-05   8.27848002e-05\n",
        "   8.01495105e-05   7.75931861e-05   7.51137819e-05   7.27092529e-05\n",
        "   7.03775542e-05   6.81166408e-05   6.59244676e-05   6.37989896e-05\n",
        "   6.17381618e-05   5.97399392e-05   5.78022768e-05   5.59231296e-05\n",
        "   5.41004525e-05   5.23323388e-05   5.06174336e-05   4.89545204e-05\n",
        "   4.73423828e-05   4.57798040e-05   4.42655676e-05   4.27984570e-05\n",
        "   4.13772556e-05   4.00007469e-05   3.86677143e-05   3.73769412e-05\n",
        "   3.61272111e-05   3.49173074e-05   3.37460135e-05   3.26121130e-05\n",
        "   3.15143891e-05   3.04516254e-05   2.94226053e-05   2.84261123e-05\n",
        "   2.74609297e-05   2.65259273e-05   2.56203198e-05   2.47434084e-05\n",
        "   2.38944940e-05   2.30728778e-05   2.22778608e-05   2.15087441e-05\n",
        "   2.07648287e-05   2.00454156e-05   1.93498060e-05   1.86773009e-05\n",
        "   1.80272014e-05   1.73988084e-05   1.67914231e-05   1.62043466e-05\n",
        "   1.56368798e-05   1.50883239e-05   1.45579799e-05   1.40451489e-05\n",
        "   1.35491319e-05   1.30692818e-05   1.26051588e-05   1.21563749e-05\n",
        "   1.17225421e-05   1.13032725e-05   1.08981780e-05   1.05068707e-05\n",
        "   1.01289625e-05   9.76406546e-06   9.41179164e-06   9.07175301e-06\n",
        "   8.74356160e-06   8.42682941e-06   8.12116845e-06   7.82619073e-06\n",
        "   7.54150827e-06   7.26673307e-06   7.00147715e-06   6.74535253e-06\n",
        "   6.49797120e-06   6.25897523e-06   6.02812685e-06   5.80521834e-06\n",
        "   5.59004197e-06   5.38239002e-06   5.18205478e-06   4.98882851e-06\n",
        "   4.80250350e-06   4.62287202e-06   4.44972635e-06   4.28285877e-06\n",
        "   4.12206156e-06   3.96712698e-06   3.81784734e-06   3.67401488e-06\n",
        "   3.53542191e-06   3.40186069e-06   3.27312350e-06   3.14900262e-06\n",
        "   3.02929033e-06   2.91379540e-06   2.80239263e-06   2.69497331e-06\n",
        "   2.59142873e-06   2.49165018e-06   2.39552895e-06   2.30295634e-06\n",
        "   2.21382364e-06   2.12802213e-06   2.04544312e-06   1.96597788e-06\n",
        "   1.88951772e-06   1.81595393e-06   1.74517779e-06   1.67708060e-06\n",
        "   1.61155366e-06   1.54848824e-06   1.48777565e-06   1.42930718e-06\n",
        "   1.37297411e-06   1.31867747e-06   1.26635714e-06   1.21596276e-06\n",
        "   1.16744394e-06   1.12075030e-06   1.07583146e-06   1.03263705e-06\n",
        "   9.91116675e-07   9.51219968e-07   9.12896546e-07   8.76096029e-07\n",
        "   8.40768038e-07   8.06862193e-07   7.74328115e-07   7.43115425e-07\n",
        "   7.13173742e-07   6.84452688e-07   6.56901883e-07   6.30470948e-07\n",
        "   6.05109503e-07   5.80768983e-07   5.57408079e-07   5.34987295e-07\n",
        "   5.13467138e-07   4.92808112e-07   4.72970722e-07   4.53915474e-07\n",
        "   4.35602872e-07   4.17993422e-07   4.01047628e-07   3.84725997e-07\n",
        "   3.68989032e-07   3.53797240e-07   3.39111124e-07   3.24891191e-07\n",
        "   3.11097945e-07   2.97691892e-07   2.84633536e-07   2.71883383e-07\n",
        "   2.59401938e-07]\n",
        "[  5.09409432e-03   5.10926990e-03   5.12346784e-03   5.13669640e-03\n",
        "   5.14896384e-03   5.16027842e-03   5.17064838e-03   5.18008199e-03\n",
        "   5.18858751e-03   5.19617319e-03   5.20284728e-03   5.20861806e-03\n",
        "   5.21349376e-03   5.21748266e-03   5.22059300e-03   5.22283305e-03\n",
        "   5.22421105e-03   5.22473528e-03   5.22441397e-03   5.22325540e-03\n",
        "   5.22126782e-03   5.21845964e-03   5.21483990e-03   5.21041777e-03\n",
        "   5.20520246e-03   5.19920315e-03   5.19242903e-03   5.18488929e-03\n",
        "   5.17659312e-03   5.16754970e-03   5.15776823e-03   5.14725790e-03\n",
        "   5.13602788e-03   5.12408738e-03   5.11144558e-03   5.09811167e-03\n",
        "   5.08409484e-03   5.06940428e-03   5.05404917e-03   5.03803871e-03\n",
        "   5.02138209e-03   5.00408904e-03   4.98617154e-03   4.96764210e-03\n",
        "   4.94851325e-03   4.92879752e-03   4.90850741e-03   4.88765545e-03\n",
        "   4.86625417e-03   4.84431609e-03   4.82185372e-03   4.79887959e-03\n",
        "   4.77540622e-03   4.75144613e-03   4.72701185e-03   4.70211588e-03\n",
        "   4.67677077e-03   4.65098902e-03   4.62478317e-03   4.59816572e-03\n",
        "   4.57114920e-03   4.54374599e-03   4.51596780e-03   4.48782621e-03\n",
        "   4.45933281e-03   4.43049917e-03   4.40133685e-03   4.37185745e-03\n",
        "   4.34207253e-03   4.31199367e-03   4.28163245e-03   4.25100044e-03\n",
        "   4.22010921e-03   4.18897036e-03   4.15759544e-03   4.12599603e-03\n",
        "   4.09418372e-03   4.06217007e-03   4.02996667e-03   3.99758508e-03\n",
        "   3.96503689e-03   3.93233330e-03   3.89948403e-03   3.86649844e-03\n",
        "   3.83338587e-03   3.80015569e-03   3.76681723e-03   3.73337987e-03\n",
        "   3.69985293e-03   3.66624579e-03   3.63256779e-03   3.59882829e-03\n",
        "   3.56503663e-03   3.53120218e-03   3.49733427e-03   3.46344227e-03\n",
        "   3.42953553e-03   3.39562339e-03   3.36171522e-03   3.32782036e-03\n",
        "   3.29394817e-03   3.26010748e-03   3.22630508e-03   3.19254721e-03\n",
        "   3.15884015e-03   3.12519016e-03   3.09160350e-03   3.05808643e-03\n",
        "   3.02464522e-03   2.99128612e-03   2.95801539e-03   2.92483931e-03\n",
        "   2.89176413e-03   2.85879611e-03   2.82594151e-03   2.79320661e-03\n",
        "   2.76059765e-03   2.72812091e-03   2.69578264e-03   2.66358910e-03\n",
        "   2.63154656e-03   2.59966084e-03   2.56793596e-03   2.53637551e-03\n",
        "   2.50498306e-03   2.47376222e-03   2.44271655e-03   2.41184965e-03\n",
        "   2.38116509e-03   2.35066647e-03   2.32035736e-03   2.29024135e-03\n",
        "   2.26032202e-03   2.23060296e-03   2.20108775e-03   2.17177998e-03\n",
        "   2.14268322e-03   2.11380107e-03   2.08513710e-03   2.05669491e-03\n",
        "   2.02847807e-03   2.00048963e-03   1.97273055e-03   1.94520123e-03\n",
        "   1.91790208e-03   1.89083351e-03   1.86399593e-03   1.83738976e-03\n",
        "   1.81101540e-03   1.78487327e-03   1.75896378e-03   1.73328733e-03\n",
        "   1.70784435e-03   1.68263523e-03   1.65766039e-03   1.63292024e-03\n",
        "   1.60841520e-03   1.58414567e-03   1.56011206e-03   1.53631479e-03\n",
        "   1.51275427e-03   1.48943114e-03   1.46634705e-03   1.44350387e-03\n",
        "   1.42090346e-03   1.39854772e-03   1.37643850e-03   1.35457769e-03\n",
        "   1.33296715e-03   1.31160878e-03   1.29050443e-03   1.26965598e-03\n",
        "   1.24906532e-03   1.22873431e-03   1.20866482e-03   1.18885874e-03\n",
        "   1.16931794e-03   1.15004429e-03   1.13103967e-03   1.11230594e-03\n",
        "   1.09384500e-03   1.07565744e-03   1.05773879e-03   1.04008331e-03\n",
        "   1.02268527e-03   1.00553894e-03   9.88638562e-04   9.71978410e-04\n",
        "   9.55552744e-04   9.39355825e-04   9.23381917e-04   9.07625281e-04\n",
        "   8.92080180e-04   8.76740875e-04   8.61601628e-04   8.46656701e-04\n",
        "   8.31900358e-04   8.17326859e-04   8.02930467e-04   7.88705444e-04\n",
        "   7.74646052e-04   7.60747716e-04   7.47010515e-04   7.33435691e-04\n",
        "   7.20024484e-04   7.06778137e-04   6.93697890e-04   6.80784987e-04\n",
        "   6.68040667e-04   6.55466174e-04   6.43062747e-04   6.30831630e-04\n",
        "   6.18774063e-04   6.06891288e-04   5.95184547e-04   5.83655081e-04\n",
        "   5.72304132e-04   5.61132942e-04   5.50142751e-04   5.39334802e-04\n",
        "   5.28710336e-04   5.18269926e-04   5.08011475e-04   4.97932216e-04\n",
        "   4.88029381e-04   4.78300205e-04   4.68741921e-04   4.59351762e-04\n",
        "   4.50126962e-04   4.41064754e-04   4.32162372e-04   4.23417049e-04\n",
        "   4.14826018e-04   4.06386514e-04   3.98095769e-04   3.89951017e-04\n",
        "   3.81949491e-04   3.74088426e-04   3.66365053e-04   3.58776607e-04\n",
        "   3.51320321e-04   3.43993643e-04   3.36794878e-04   3.29722546e-04\n",
        "   3.22775166e-04   3.15951257e-04   3.09249340e-04   3.02667932e-04\n",
        "   2.96205555e-04   2.89860728e-04   2.83631969e-04   2.77517799e-04\n",
        "   2.71516737e-04   2.65627302e-04   2.59848014e-04   2.54177393e-04\n",
        "   2.48613957e-04   2.43156227e-04   2.37802722e-04   2.32551961e-04\n",
        "   2.27402464e-04   2.22352753e-04   2.17401358e-04   2.12546811e-04\n",
        "   2.07787647e-04   2.03122396e-04   1.98549593e-04   1.94067769e-04\n",
        "   1.89675458e-04   1.85371192e-04   1.81153503e-04   1.77020926e-04\n",
        "   1.72971992e-04   1.69005234e-04   1.65119184e-04   1.61312377e-04\n",
        "   1.57583343e-04   1.53930617e-04   1.50352730e-04   1.46848216e-04\n",
        "   1.43415607e-04   1.40053501e-04   1.36760757e-04   1.33536297e-04\n",
        "   1.30379047e-04   1.27287929e-04   1.24261867e-04   1.21299785e-04\n",
        "   1.18400607e-04   1.15563255e-04   1.12786654e-04   1.10069728e-04\n",
        "   1.07411399e-04   1.04810592e-04   1.02266231e-04   9.97772381e-05\n",
        "   9.73425380e-05   9.49610541e-05   9.26317100e-05   9.03534294e-05\n",
        "   8.81251359e-05   8.59457970e-05   8.38145550e-05   8.17305963e-05\n",
        "   7.96931069e-05   7.77012732e-05   7.57542813e-05   7.38513174e-05\n",
        "   7.19915678e-05   7.01742186e-05   6.83984561e-05   6.66634665e-05\n",
        "   6.49684359e-05   6.33125506e-05   6.16949969e-05   6.01149608e-05\n",
        "   5.85716287e-05   5.70641867e-05   5.55918211e-05   5.41537180e-05\n",
        "   5.27490636e-05   5.13770842e-05   5.00371656e-05   4.87287337e-05\n",
        "   4.74512144e-05   4.62040336e-05   4.49866170e-05   4.37983906e-05\n",
        "   4.26387802e-05   4.15072118e-05   4.04031111e-05   3.93259040e-05\n",
        "   3.82750165e-05   3.72498743e-05   3.62499033e-05   3.52745294e-05\n",
        "   3.43231785e-05   3.33952765e-05   3.24902491e-05   3.16075223e-05\n",
        "   3.07465219e-05   2.99067039e-05   2.90876441e-05   2.82889484e-05\n",
        "   2.75102229e-05   2.67510735e-05   2.60111061e-05   2.52899267e-05\n",
        "   2.45871411e-05   2.39023555e-05   2.32351756e-05   2.25852075e-05\n",
        "   2.19520571e-05   2.13353303e-05   2.07346331e-05   2.01495714e-05\n",
        "   1.95797512e-05   1.90247785e-05   1.84842591e-05   1.79577990e-05\n",
        "   1.74450041e-05   1.69455028e-05   1.64590128e-05   1.59852743e-05\n",
        "   1.55240272e-05   1.50750118e-05   1.46379680e-05   1.42126362e-05\n",
        "   1.37987562e-05   1.33960683e-05   1.30043125e-05   1.26232290e-05\n",
        "   1.22525578e-05   1.18920391e-05   1.15414129e-05   1.12004194e-05\n",
        "   1.08687987e-05   1.05462909e-05   1.02326360e-05   9.92757420e-06\n",
        "   9.63084561e-06   9.34220600e-06   9.06147390e-06   8.78848355e-06\n",
        "   8.52306917e-06   8.26506497e-06   8.01430519e-06   7.77062404e-06\n",
        "   7.53385576e-06   7.30383456e-06   7.08039467e-06   6.86337032e-06\n",
        "   6.65259572e-06   6.44790510e-06   6.24913268e-06   6.05611270e-06\n",
        "   5.86867936e-06   5.68666690e-06   5.50990954e-06   5.33824150e-06\n",
        "   5.17149701e-06   5.00952091e-06   4.85220052e-06   4.69943375e-06\n",
        "   4.55111856e-06   4.40715286e-06   4.26743459e-06   4.13186169e-06\n",
        "   4.00033207e-06   3.87274369e-06   3.74899446e-06   3.62898232e-06\n",
        "   3.51260520e-06   3.39976104e-06   3.29034776e-06   3.18426329e-06\n",
        "   3.08140558e-06   2.98167254e-06   2.88496212e-06   2.79117224e-06\n",
        "   2.70020084e-06   2.61195274e-06   2.52636032e-06   2.44336287e-06\n",
        "   2.36289967e-06   2.28491000e-06   2.20933314e-06   2.13610837e-06\n",
        "   2.06517497e-06   1.99647222e-06   1.92993939e-06   1.86551578e-06\n",
        "   1.80314066e-06   1.74275331e-06   1.68429301e-06   1.62769904e-06\n",
        "   1.57291069e-06   1.51986722e-06   1.46850793e-06   1.41877209e-06\n",
        "   1.37059899e-06   1.32393220e-06   1.27873254e-06   1.23496512e-06\n",
        "   1.19259507e-06   1.15158749e-06   1.11190749e-06   1.07352020e-06\n",
        "   1.03639074e-06   1.00048420e-06   9.65765720e-07   9.32200402e-07\n",
        "   8.99753365e-07   8.68389724e-07   8.38074595e-07   8.08773092e-07\n",
        "   7.80450331e-07   7.53071426e-07   7.26601494e-07   7.01005650e-07\n",
        "   6.76249008e-07   6.52299270e-07   6.29134486e-07   6.06735290e-07\n",
        "   5.85082317e-07   5.64156203e-07   5.43937583e-07   5.24407091e-07\n",
        "   5.05545364e-07   4.87333035e-07   4.69750741e-07   4.52779117e-07\n",
        "   4.36398796e-07   4.20590416e-07   4.05334610e-07   3.90612015e-07\n",
        "   3.76403265e-07   3.62688995e-07   3.49449840e-07   3.36666436e-07\n",
        "   3.24319418e-07   3.12390921e-07   3.00869076e-07   2.89743518e-07\n",
        "   2.79003877e-07   2.68639787e-07   2.58640880e-07   2.48996788e-07\n",
        "   2.39697144e-07   2.30731580e-07   2.22089729e-07   2.13761222e-07\n",
        "   2.05735693e-07   1.98002773e-07   1.90552095e-07   1.83373292e-07\n",
        "   1.76455996e-07   1.69789838e-07   1.63364453e-07   1.57169471e-07\n",
        "   1.51194526e-07   1.45430074e-07   1.39869864e-07   1.34508472e-07\n",
        "   1.29340471e-07   1.24360437e-07   1.19562942e-07   1.14942563e-07\n",
        "   1.10493871e-07   1.06211443e-07   1.02089852e-07   9.81236733e-08\n",
        "   9.43074799e-08   9.06358467e-08   8.71033478e-08   8.37045577e-08\n",
        "   8.04340506e-08   7.72864007e-08   7.42561823e-08   7.13379697e-08\n",
        "   6.85263372e-08   6.58163442e-08   6.32049911e-08   6.06897634e-08\n",
        "   5.82681467e-08   5.59376263e-08   5.36956879e-08   5.15398169e-08\n",
        "   4.94674989e-08   4.74762195e-08   4.55634640e-08   4.37267180e-08\n",
        "   4.19634671e-08   4.02711968e-08   3.86473926e-08   3.70895399e-08\n",
        "   3.55951244e-08   3.41616315e-08   3.27865468e-08   3.14673557e-08\n",
        "   3.02015438e-08   2.89866872e-08   2.78207241e-08   2.67016832e-08\n",
        "   2.56275933e-08   2.45964833e-08   2.36063819e-08   2.26553178e-08\n",
        "   2.17413198e-08   2.08624168e-08   2.00166374e-08   1.92020105e-08\n",
        "   1.84165649e-08   1.76583292e-08   1.69253324e-08   1.62156031e-08\n",
        "   1.55271702e-08   1.48580623e-08   1.42063084e-08   1.35699371e-08\n",
        "   1.29469773e-08]\n"
       ]
      }
     ],
     "prompt_number": 16
    },
    {
     "cell_type": "code",
     "collapsed": false,
     "input": [
      "def P_unc_function(lamb,sigma):\n",
      "    range_x = get_range(lamb,sigma/lamb)\n",
      "    def getFineRange(range_x):\n",
      "        return np.linspace(0,range_x[-1],(range_x[-1])*20+1)\n",
      "    range_x_fine = getFineRange(range_x)\n",
      "    y = [P_unc(x,lamb,sigma)[0] for x in range_x]\n",
      "    f_fit = interp1d(range_x, y, kind='cubic')\n",
      "    y_fine = f_fit(range_x_fine)\n",
      "    assert y_fine[-1] < 1e-3, \"Your range isn't large enough!\"\n",
      "    return  range_x_fine, y_fine"
     ],
     "language": "python",
     "metadata": {},
     "outputs": [],
     "prompt_number": 17
    },
    {
     "cell_type": "code",
     "collapsed": false,
     "input": [
      "import ROOT\n",
      "ROOT.gROOT.LoadMacro(\"AvgUpperLimit.c\")\n",
      "\n",
      "n_obs = 30\n",
      "n_exp = 41\n",
      "sigma1 = 5\n",
      "n_range, n_prob = P_unc_function(n_exp,sigma1)\n",
      "FC_unc = 0\n",
      "problist = []\n",
      "FClist   = []\n",
      "for i,n in enumerate(n_range):\n",
      "    if i%100==0: print(\"At \",round(100*float(i)/len(n_range),1),\"%\")\n",
      "    normalized_prob = (n_prob[i])*(n_range[-1]/len(n_range))\n",
      "    problist.append(normalized_prob)\n",
      "    FC = ROOT.simpleFC(n_obs,n,0.9)\n",
      "    FClist.append(FC)\n",
      "    FC_unc +=  FC * normalized_prob\n",
      "print('Complex (sigma {}): {}'.format(sigma1, FC_unc))\n",
      "#Show what's actually being done!\n",
      "fig, ax1 = plt.subplots()\n",
      "ax1.plot(n_range,np.array(problist),'r-',label='Probability weights')\n",
      "ax1.plot(n_range,np.array(FClist)*np.array(problist),'g-',label='Weighted FC values')\n",
      "ax1.set_xlabel('n_exp')\n",
      "# Make the y-axis label, ticks and tick labels match the line color.\n",
      "ax1.set_ylabel('Probability', color='r')\n",
      "ax1.tick_params('y', colors='r')\n",
      "\n",
      "ax2 = ax1.twinx()\n",
      "ax2.plot(n_range,np.array(FClist),'b-',label='FC values')\n",
      "ax2.set_ylabel('FC for n_obs={}'.format(n_obs), color='b')\n",
      "ax2.tick_params('y', colors='b')\n",
      "\n",
      "fig.tight_layout()\n",
      "ax1.legend(loc=1)\n",
      "ax2.legend(loc='upper left')\n",
      "\n",
      "ax1.set_ylim(0,0.015)\n",
      "\n",
      "plt.show()"
     ],
     "language": "python",
     "metadata": {},
     "outputs": [
      {
       "output_type": "stream",
       "stream": "stdout",
       "text": [
        "('At ', 0.0, '%')\n",
        "('At ', 2.4, '%')"
       ]
      },
      {
       "output_type": "stream",
       "stream": "stdout",
       "text": [
        "\n",
        "('At ', 4.9, '%')"
       ]
      },
      {
       "output_type": "stream",
       "stream": "stdout",
       "text": [
        "\n",
        "('At ', 7.3, '%')"
       ]
      },
      {
       "output_type": "stream",
       "stream": "stdout",
       "text": [
        "\n",
        "('At ', 9.8, '%')"
       ]
      },
      {
       "output_type": "stream",
       "stream": "stdout",
       "text": [
        "\n",
        "('At ', 12.2, '%')"
       ]
      },
      {
       "output_type": "stream",
       "stream": "stdout",
       "text": [
        "\n",
        "('At ', 14.6, '%')"
       ]
      },
      {
       "output_type": "stream",
       "stream": "stdout",
       "text": [
        "\n",
        "('At ', 17.1, '%')"
       ]
      },
      {
       "output_type": "stream",
       "stream": "stdout",
       "text": [
        "\n",
        "('At ', 19.5, '%')"
       ]
      },
      {
       "output_type": "stream",
       "stream": "stdout",
       "text": [
        "\n",
        "('At ', 21.9, '%')"
       ]
      },
      {
       "output_type": "stream",
       "stream": "stdout",
       "text": [
        "\n",
        "('At ', 24.4, '%')"
       ]
      },
      {
       "output_type": "stream",
       "stream": "stdout",
       "text": [
        "\n",
        "('At ', 26.8, '%')"
       ]
      },
      {
       "output_type": "stream",
       "stream": "stdout",
       "text": [
        "\n",
        "('At ', 29.3, '%')"
       ]
      },
      {
       "output_type": "stream",
       "stream": "stdout",
       "text": [
        "\n",
        "('At ', 31.7, '%')"
       ]
      },
      {
       "output_type": "stream",
       "stream": "stdout",
       "text": [
        "\n",
        "('At ', 34.1, '%')"
       ]
      },
      {
       "output_type": "stream",
       "stream": "stdout",
       "text": [
        "\n",
        "('At ', 36.6, '%')"
       ]
      },
      {
       "output_type": "stream",
       "stream": "stdout",
       "text": [
        "\n",
        "('At ', 39.0, '%')"
       ]
      },
      {
       "output_type": "stream",
       "stream": "stdout",
       "text": [
        "\n",
        "('At ', 41.5, '%')"
       ]
      },
      {
       "output_type": "stream",
       "stream": "stdout",
       "text": [
        "\n",
        "('At ', 43.9, '%')"
       ]
      },
      {
       "output_type": "stream",
       "stream": "stdout",
       "text": [
        "\n",
        "('At ', 46.3, '%')"
       ]
      },
      {
       "output_type": "stream",
       "stream": "stdout",
       "text": [
        "\n",
        "('At ', 48.8, '%')"
       ]
      },
      {
       "output_type": "stream",
       "stream": "stdout",
       "text": [
        "\n",
        "('At ', 51.2, '%')"
       ]
      },
      {
       "output_type": "stream",
       "stream": "stdout",
       "text": [
        "\n",
        "('At ', 53.6, '%')"
       ]
      },
      {
       "output_type": "stream",
       "stream": "stdout",
       "text": [
        "\n",
        "('At ', 56.1, '%')"
       ]
      },
      {
       "output_type": "stream",
       "stream": "stdout",
       "text": [
        "\n",
        "('At ', 58.5, '%')"
       ]
      },
      {
       "output_type": "stream",
       "stream": "stdout",
       "text": [
        "\n",
        "('At ', 61.0, '%')"
       ]
      },
      {
       "output_type": "stream",
       "stream": "stdout",
       "text": [
        "\n",
        "('At ', 63.4, '%')"
       ]
      },
      {
       "output_type": "stream",
       "stream": "stdout",
       "text": [
        "\n",
        "('At ', 65.8, '%')"
       ]
      },
      {
       "output_type": "stream",
       "stream": "stdout",
       "text": [
        "\n",
        "('At ', 68.3, '%')"
       ]
      },
      {
       "output_type": "stream",
       "stream": "stdout",
       "text": [
        "\n",
        "('At ', 70.7, '%')"
       ]
      },
      {
       "output_type": "stream",
       "stream": "stdout",
       "text": [
        "\n",
        "('At ', 73.2, '%')"
       ]
      },
      {
       "output_type": "stream",
       "stream": "stdout",
       "text": [
        "\n",
        "('At ', 75.6, '%')"
       ]
      },
      {
       "output_type": "stream",
       "stream": "stdout",
       "text": [
        "\n",
        "('At ', 78.0, '%')"
       ]
      },
      {
       "output_type": "stream",
       "stream": "stdout",
       "text": [
        "\n",
        "('At ', 80.5, '%')"
       ]
      },
      {
       "output_type": "stream",
       "stream": "stdout",
       "text": [
        "\n",
        "('At ', 82.9, '%')"
       ]
      },
      {
       "output_type": "stream",
       "stream": "stdout",
       "text": [
        "\n",
        "('At ', 85.3, '%')"
       ]
      },
      {
       "output_type": "stream",
       "stream": "stdout",
       "text": [
        "\n",
        "('At ', 87.8, '%')"
       ]
      },
      {
       "output_type": "stream",
       "stream": "stdout",
       "text": [
        "\n",
        "('At ', 90.2, '%')"
       ]
      },
      {
       "output_type": "stream",
       "stream": "stdout",
       "text": [
        "\n",
        "('At ', 92.7, '%')"
       ]
      },
      {
       "output_type": "stream",
       "stream": "stdout",
       "text": [
        "\n",
        "('At ', 95.1, '%')"
       ]
      },
      {
       "output_type": "stream",
       "stream": "stdout",
       "text": [
        "\n",
        "('At ', 97.5, '%')"
       ]
      },
      {
       "output_type": "stream",
       "stream": "stdout",
       "text": [
        "\n",
        "('At ', 100.0, '%')"
       ]
      },
      {
       "output_type": "stream",
       "stream": "stdout",
       "text": [
        "\n",
        "Complex (sigma 5): 4.51160230267\n"
       ]
      },
      {
       "metadata": {},
       "output_type": "display_data",
       "png": "[encoded data removed]",
       "text": [
        "<matplotlib.figure.Figure at 0x7fd70c8cf850>"
       ]
      }
     ],
     "prompt_number": 21
    },
    {
     "cell_type": "code",
     "collapsed": false,
     "input": [
      "n_sig = 2\n",
      "sigma_sig = 7\n",
      "n_range, n_prob = P_unc_function(n_sig,sigma_sig)\n",
      "ns_unc = 0\n",
      "for i,n in enumerate(n_range):\n",
      "    #if i%100==0: print(\"At \",round(100*float(i)/len(n_range),1),\"%\")\n",
      "    normalized_prob = (n_prob[i])*(n_range[-1]/len(n_range))\n",
      "    ns_unc +=  n * normalized_prob\n",
      "print('n_sig: {}, n_sig_unc (sigma {}): {}'.format(n_sig,sigma_sig,ns_unc))"
     ],
     "language": "python",
     "metadata": {},
     "outputs": [
      {
       "output_type": "stream",
       "stream": "stdout",
       "text": [
        "n_sig: 2, n_sig_unc (sigma 7): 2.75395800949\n"
       ]
      }
     ],
     "prompt_number": 19
    },
    {
     "cell_type": "code",
     "collapsed": false,
     "input": [
      "import ROOT\n",
      "ROOT.gROOT.LoadMacro(\"AvgUpperLimit.c\")\n",
      "ROOT.simpleFC(30,4,0.9)"
     ],
     "language": "python",
     "metadata": {},
     "outputs": [
      {
       "metadata": {},
       "output_type": "pyout",
       "prompt_number": 20,
       "text": [
        "0.0"
       ]
      }
     ],
     "prompt_number": 20
    },
    {
     "cell_type": "code",
     "collapsed": false,
     "input": [],
     "language": "python",
     "metadata": {},
     "outputs": []
    },
    {
     "cell_type": "code",
     "collapsed": false,
     "input": [
      "def stirling(n):\n",
      "        return (n+0.5) * np.log(n) - n + 0.5* np.log(2*np.pi)\n",
      "np.exp(40*np.log(40+0) - 40 - 0 - stirling(40))\n"
     ],
     "language": "python",
     "metadata": {},
     "outputs": [
      {
       "metadata": {},
       "output_type": "pyout",
       "prompt_number": 43,
       "text": [
        "0.063078313050504556"
       ]
      }
     ],
     "prompt_number": 43
    },
    {
     "cell_type": "code",
     "collapsed": false,
     "input": [
      "normalDistr(0,40,0.1)"
     ],
     "language": "python",
     "metadata": {},
     "outputs": [
      {
       "metadata": {},
       "output_type": "pyout",
       "prompt_number": 44,
       "text": [
        "0.0"
       ]
      }
     ],
     "prompt_number": 44
    },
    {
     "cell_type": "code",
     "collapsed": false,
     "input": [],
     "language": "python",
     "metadata": {},
     "outputs": []
    }
   ],
   "metadata": {}
  }
 ]
}
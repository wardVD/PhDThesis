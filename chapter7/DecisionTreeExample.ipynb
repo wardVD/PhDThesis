{
 "metadata": {
  "name": "",
  "signature": "sha256:7d9ee2f59269de4cfe83de764f72e9d0aed43bab4114eeab8871873e437ea8c9"
 },
 "nbformat": 3,
 "nbformat_minor": 0,
 "worksheets": [
  {
   "cells": [
    {
     "cell_type": "code",
     "collapsed": false,
     "input": [
      "def getP(people):\n",
      "    n_sig = 0\n",
      "    n_bkg = 0\n",
      "    for person in people:\n",
      "        if person[1]:\n",
      "            n_sig += 1\n",
      "        else:\n",
      "            n_bkg += 1\n",
      "    return float(n_sig)/(n_sig+n_bkg)\n",
      "\n",
      "def getGini(people):\n",
      "    p = getP(people)\n",
      "    return p*(1-p)\n",
      "\n",
      "#([age<30, eats pizza, exercises], healthy(y/n))\n",
      "People = [([1,1,1],0),\n",
      "          ([1,0,1],1),\n",
      "          ([1,0,0],1),\n",
      "          ([0,0,0],0),\n",
      "          ([0,0,1],1),\n",
      "          ([0,0,1],1)]\n",
      "\n",
      "passed = []\n",
      "failed = []\n",
      "for i in range(3):\n",
      "    for person in People:\n",
      "        if person[0][i]:\n",
      "            passed += [person]\n",
      "        else:\n",
      "            failed += [person]\n",
      "    print(\"parent: \", len(People), \"Gini: \", getGini(People))\n",
      "    print(\"passed: \", len(passed), \"Gini: \", getGini(passed))\n",
      "    print(\"failed: \", len(failed), \"Gini: \", getGini(failed))\n",
      "    print(\"deltaS: \", getGini(People) * len(People) - (getGini(passed)*len(passed) + getGini(failed) * len(failed) ))\n",
      "    print('\\n')"
     ],
     "language": "python",
     "metadata": {},
     "outputs": [
      {
       "output_type": "stream",
       "stream": "stdout",
       "text": [
        "parent:  6 Gini:  0.22222222222222224\n",
        "passed:  3 Gini:  0.22222222222222224\n",
        "failed:  3 Gini:  0.22222222222222224\n",
        "deltaS:  0.0\n",
        "\n",
        "\n",
        "parent:  6 Gini:  0.22222222222222224\n",
        "passed:  4 Gini:  0.25\n",
        "failed:  8 Gini:  0.1875\n",
        "deltaS:  -1.1666666666666665\n",
        "\n",
        "\n",
        "parent:  6 Gini:  0.22222222222222224\n",
        "passed:  8 Gini:  0.234375\n",
        "failed:  10 Gini:  0.21000000000000002\n",
        "deltaS:  -2.6416666666666666\n",
        "\n",
        "\n"
       ]
      }
     ],
     "prompt_number": 50
    },
    {
     "cell_type": "code",
     "collapsed": false,
     "input": [
      "6./9*(1-6./9)"
     ],
     "language": "python",
     "metadata": {},
     "outputs": [
      {
       "metadata": {},
       "output_type": "pyout",
       "prompt_number": 26,
       "text": [
        "0.22222222222222224"
       ]
      }
     ],
     "prompt_number": 26
    },
    {
     "cell_type": "code",
     "collapsed": false,
     "input": [],
     "language": "python",
     "metadata": {},
     "outputs": []
    }
   ],
   "metadata": {}
  }
 ]
}